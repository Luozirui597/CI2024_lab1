{
 "cells": [
  {
   "cell_type": "code",
   "execution_count": 10,
   "metadata": {},
   "outputs": [],
   "source": [
    "from random import random, seed\n",
    "from itertools import product\n",
    "import numpy as np\n",
    "\n",
    "from icecream import ic"
   ]
  },
  {
   "cell_type": "markdown",
   "metadata": {},
   "source": [
    "There is instance 1"
   ]
  },
  {
   "cell_type": "code",
   "execution_count": 11,
   "metadata": {},
   "outputs": [],
   "source": [
    "#set size \n",
    "UNIVERSE_SIZE = 100\n",
    "NUM_SETS = 10\n",
    "DENSITY = 0.2\n",
    "\n",
    "rng = np.random.Generator(np.random.PCG64([UNIVERSE_SIZE, NUM_SETS, int(10_000 * DENSITY)]))"
   ]
  },
  {
   "cell_type": "code",
   "execution_count": 12,
   "metadata": {},
   "outputs": [
    {
     "ename": "AttributeError",
     "evalue": "module 'numpy' has no attribute 'pow'",
     "output_type": "error",
     "traceback": [
      "\u001b[1;31m---------------------------------------------------------------------------\u001b[0m",
      "\u001b[1;31mAttributeError\u001b[0m                            Traceback (most recent call last)",
      "Cell \u001b[1;32mIn[12], line 7\u001b[0m\n\u001b[0;32m      5\u001b[0m     \u001b[38;5;28;01mif\u001b[39;00m \u001b[38;5;129;01mnot\u001b[39;00m np\u001b[38;5;241m.\u001b[39many(SETS[:, s]):\n\u001b[0;32m      6\u001b[0m         SETS[np\u001b[38;5;241m.\u001b[39mrandom\u001b[38;5;241m.\u001b[39mrandint(NUM_SETS), s] \u001b[38;5;241m=\u001b[39m \u001b[38;5;28;01mTrue\u001b[39;00m\n\u001b[1;32m----> 7\u001b[0m COSTS \u001b[38;5;241m=\u001b[39m np\u001b[38;5;241m.\u001b[39mpow(SETS\u001b[38;5;241m.\u001b[39msum(axis\u001b[38;5;241m=\u001b[39m\u001b[38;5;241m1\u001b[39m), \u001b[38;5;241m1.1\u001b[39m)\n",
      "File \u001b[1;32mc:\\Users\\Ezio\\anaconda3\\Lib\\site-packages\\numpy\\__init__.py:284\u001b[0m, in \u001b[0;36m__getattr__\u001b[1;34m(attr)\u001b[0m\n\u001b[0;32m    281\u001b[0m     \u001b[38;5;28;01mfrom\u001b[39;00m \u001b[38;5;21;01m.\u001b[39;00m\u001b[38;5;21;01mtesting\u001b[39;00m \u001b[38;5;28;01mimport\u001b[39;00m Tester\n\u001b[0;32m    282\u001b[0m     \u001b[38;5;28;01mreturn\u001b[39;00m Tester\n\u001b[1;32m--> 284\u001b[0m \u001b[38;5;28;01mraise\u001b[39;00m \u001b[38;5;167;01mAttributeError\u001b[39;00m(\u001b[38;5;124m\"\u001b[39m\u001b[38;5;124mmodule \u001b[39m\u001b[38;5;132;01m{!r}\u001b[39;00m\u001b[38;5;124m has no attribute \u001b[39m\u001b[38;5;124m\"\u001b[39m\n\u001b[0;32m    285\u001b[0m                      \u001b[38;5;124m\"\u001b[39m\u001b[38;5;132;01m{!r}\u001b[39;00m\u001b[38;5;124m\"\u001b[39m\u001b[38;5;241m.\u001b[39mformat(\u001b[38;5;18m__name__\u001b[39m, attr))\n",
      "\u001b[1;31mAttributeError\u001b[0m: module 'numpy' has no attribute 'pow'"
     ]
    }
   ],
   "source": [
    "# DON'T EDIT THESE LINES!\n",
    "\n",
    "SETS = np.random.random((NUM_SETS, UNIVERSE_SIZE)) < DENSITY\n",
    "for s in range(UNIVERSE_SIZE):\n",
    "    if not np.any(SETS[:, s]):\n",
    "        SETS[np.random.randint(NUM_SETS), s] = True\n",
    "COSTS = np.pow(SETS.sum(axis=1), 1.1)"
   ]
  },
  {
   "cell_type": "markdown",
   "metadata": {},
   "source": [
    "Try Simulated Annealing first(Because it looks like powerful :)"
   ]
  },
  {
   "cell_type": "code",
   "execution_count": 7,
   "metadata": {},
   "outputs": [],
   "source": [
    "def valid(solution):\n",
    "    \"\"\"Checks wether solution is valid (ie. covers all universe)\"\"\"\n",
    "    return np.all(np.logical_or.reduce(SETS[solution]))\n",
    "\n",
    "\n",
    "def cost(solution):\n",
    "    \"\"\"Returns the cost of a solution (to be minimized)\"\"\"\n",
    "    return COSTS[solution].sum()"
   ]
  },
  {
   "cell_type": "code",
   "execution_count": 8,
   "metadata": {},
   "outputs": [],
   "source": [
    "def Simulate_Annealing(initial_solution,steps,initial_temp,cool_rate):\n",
    "\n",
    "  current_solution = initial_solution\n",
    "  best_solution = initial_solution\n",
    "  current_temp = initial_temp\n",
    "\n",
    "  for step in range(steps):\n",
    "    # randomly choose a set\n",
    "    new_solution = current_solution.copy()\n",
    "    \n"
   ]
  }
 ],
 "metadata": {
  "kernelspec": {
   "display_name": "base",
   "language": "python",
   "name": "python3"
  },
  "language_info": {
   "codemirror_mode": {
    "name": "ipython",
    "version": 3
   },
   "file_extension": ".py",
   "mimetype": "text/x-python",
   "name": "python",
   "nbconvert_exporter": "python",
   "pygments_lexer": "ipython3",
   "version": "3.11.7"
  }
 },
 "nbformat": 4,
 "nbformat_minor": 2
}
