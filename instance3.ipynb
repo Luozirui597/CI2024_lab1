{
 "cells": [
  {
   "cell_type": "markdown",
   "metadata": {},
   "source": [
    "This is instance3 and try RMHC Hill Climbing"
   ]
  },
  {
   "cell_type": "code",
   "execution_count": 22,
   "metadata": {},
   "outputs": [],
   "source": [
    "import numpy as np\n",
    "'''I got error message on vscode:\n",
    "A module that was compiled using NumPy 1.x cannot be run inNumPy 2.1.1 as it may crash. \n",
    "To support both 1.x and 2.xversions of NumPy, modules must be compiled with NumPy 2.0.\n",
    "Some module may need to rebuild instead e.g. with 'pybind11>=2.12'.\n",
    "So,I changed to plotly with friend's advice'''\n",
    "import plotly.graph_objects as go\n",
    "from tqdm import tqdm"
   ]
  },
  {
   "cell_type": "code",
   "execution_count": 23,
   "metadata": {},
   "outputs": [],
   "source": [
    "#set size \n",
    "UNIVERSE_SIZE = 10000\n",
    "NUM_SETS = 1000\n",
    "DENSITY = 0.2\n",
    "\n",
    "\n",
    "SETS = np.random.random((NUM_SETS, UNIVERSE_SIZE)) < DENSITY"
   ]
  },
  {
   "cell_type": "code",
   "execution_count": 24,
   "metadata": {},
   "outputs": [],
   "source": [
    "# DON'T EDIT THESE LINES!\n",
    "\n",
    "SETS = np.random.random((NUM_SETS, UNIVERSE_SIZE)) < DENSITY\n",
    "for s in range(UNIVERSE_SIZE):\n",
    "    if not np.any(SETS[:, s]):\n",
    "        SETS[np.random.randint(NUM_SETS), s] = True\n",
    "COSTS = np.pow(SETS.sum(axis=1), 1.1)"
   ]
  },
  {
   "cell_type": "code",
   "execution_count": 25,
   "metadata": {},
   "outputs": [],
   "source": [
    "def valid(solution):\n",
    "    \"\"\"Checks wether solution is valid (ie. covers all universe)\"\"\"\n",
    "    return np.all(np.logical_or.reduce(SETS[solution]))\n",
    "\n",
    "\n",
    "def cost(solution):\n",
    "    \"\"\"Returns the cost of a solution (to be minimized)\"\"\"\n",
    "    return COSTS[solution].sum()\n",
    "\n",
    "def tweak(solution):\n",
    "  new_solution = solution.copy()\n",
    "  flip_set = np.random.randint(0,NUM_SETS)\n",
    "  new_solution[flip_set] = not new_solution[flip_set]\n",
    "  return new_solution"
   ]
  },
  {
   "cell_type": "code",
   "execution_count": 26,
   "metadata": {},
   "outputs": [],
   "source": [
    "def RMHC(RESTARTS,STEPS):\n",
    "  best_solution = None\n",
    "  best_cost = float('inf')\n",
    "  history = []\n",
    "\n",
    "  for _ in range(RESTARTS):\n",
    "    #random initial solution\n",
    "    current_solution = np.random.choice([True, False], size=NUM_SETS, p=[0.5,0.5])\n",
    "    current_cost = cost(current_solution)\n",
    "\n",
    "    for _ in range(STEPS):\n",
    "      # new_solution form tweak\n",
    "      new_solution = tweak(current_solution)\n",
    "      new_cost = cost(new_solution)\n",
    "\n",
    "      #choose new solution if its better\n",
    "      if valid(new_solution) and new_cost < current_cost:\n",
    "        current_solution = new_solution\n",
    "        current_cost = new_cost\n",
    "        \n",
    "    if best_cost > current_cost:\n",
    "      best_solution = current_solution\n",
    "      best_cost = current_cost\n",
    "\n",
    "    history.append(best_cost)\n",
    "\n",
    "  return best_solution,best_cost,history"
   ]
  },
  {
   "cell_type": "code",
   "execution_count": 27,
   "metadata": {},
   "outputs": [],
   "source": [
    "best_solution,best_cost,history = RMHC(RESTARTS=30,STEPS=100)"
   ]
  },
  {
   "cell_type": "code",
   "execution_count": 28,
   "metadata": {},
   "outputs": [
    {
     "name": "stdout",
     "output_type": "stream",
     "text": [
      "Best solution found with cost: 1823509.0598093623\n"
     ]
    }
   ],
   "source": [
    "print(\"Best solution found with cost:\", best_cost)"
   ]
  }
 ],
 "metadata": {
  "kernelspec": {
   "display_name": "base",
   "language": "python",
   "name": "python3"
  },
  "language_info": {
   "codemirror_mode": {
    "name": "ipython",
    "version": 3
   },
   "file_extension": ".py",
   "mimetype": "text/x-python",
   "name": "python",
   "nbconvert_exporter": "python",
   "pygments_lexer": "ipython3",
   "version": "3.11.7"
  }
 },
 "nbformat": 4,
 "nbformat_minor": 2
}
